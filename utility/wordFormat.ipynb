{
 "cells": [
  {
   "cell_type": "markdown",
   "metadata": {},
   "source": [
    "# demo"
   ]
  },
  {
   "cell_type": "code",
   "execution_count": 1,
   "metadata": {},
   "outputs": [
    {
     "name": "stdout",
     "output_type": "stream",
     "text": [
      "trail-apath through the country\n",
      "hurtle-to move great speed\n",
      "stroll-to work slowly for pleasure\n",
      "boast-to talk with too much pride about something\n",
      "stealthy-quiet and secret\n",
      "thumping-beating very hard\n",
      "cross-angry or annoyed\n",
      "awesome-very impressive\n",
      "plain-a large area of flat land with few trees\n",
      "nocturnal-active at night\n",
      "trundling-moving slowly and noisily\n",
      "springs-jumps quickly and suddenly\n",
      "trunk-the long nose of an elephant\n",
      "markings-patterns on an animal's skin\n",
      "soaked-very wet\n"
     ]
    }
   ],
   "source": [
    "# Open the file in read mode ('r')\n",
    "with open('chapter8.txt', 'r') as file:\n",
    "    # Read the content of the file\n",
    "    file_content = file.read()\n",
    "\n",
    "# Now file_content contains the text from example.txt\n",
    "print(file_content)\n"
   ]
  },
  {
   "cell_type": "code",
   "execution_count": 3,
   "metadata": {},
   "outputs": [
    {
     "data": {
      "text/plain": [
       "['trail-apath through the country',\n",
       " 'hurtle-to move great speed',\n",
       " 'stroll-to work slowly for pleasure',\n",
       " 'boast-to talk with too much pride about something',\n",
       " 'stealthy-quiet and secret',\n",
       " 'thumping-beating very hard',\n",
       " 'cross-angry or annoyed',\n",
       " 'awesome-very impressive',\n",
       " 'plain-a large area of flat land with few trees',\n",
       " 'nocturnal-active at night',\n",
       " 'trundling-moving slowly and noisily',\n",
       " 'springs-jumps quickly and suddenly',\n",
       " 'trunk-the long nose of an elephant',\n",
       " \"markings-patterns on an animal's skin\",\n",
       " 'soaked-very wet']"
      ]
     },
     "execution_count": 3,
     "metadata": {},
     "output_type": "execute_result"
    }
   ],
   "source": [
    "word_item = file_content.split('\\n')\n",
    "\n",
    "word_item"
   ]
  },
  {
   "cell_type": "code",
   "execution_count": 9,
   "metadata": {},
   "outputs": [
    {
     "name": "stdout",
     "output_type": "stream",
     "text": [
      "{ word: 'trail' , definition: 'apath through the country' },\n",
      "{ word: 'hurtle' , definition: 'to move great speed' },\n",
      "{ word: 'stroll' , definition: 'to work slowly for pleasure' },\n",
      "{ word: 'boast' , definition: 'to talk with too much pride about something' },\n",
      "{ word: 'stealthy' , definition: 'quiet and secret' },\n",
      "{ word: 'thumping' , definition: 'beating very hard' },\n",
      "{ word: 'cross' , definition: 'angry or annoyed' },\n",
      "{ word: 'awesome' , definition: 'very impressive' },\n",
      "{ word: 'plain' , definition: 'a large area of flat land with few trees' },\n",
      "{ word: 'nocturnal' , definition: 'active at night' },\n",
      "{ word: 'trundling' , definition: 'moving slowly and noisily' },\n",
      "{ word: 'springs' , definition: 'jumps quickly and suddenly' },\n",
      "{ word: 'trunk' , definition: 'the long nose of an elephant' },\n",
      "{ word: 'markings' , definition: 'patterns on an animal's skin' },\n",
      "{ word: 'soaked' , definition: 'very wet' },\n"
     ]
    }
   ],
   "source": [
    "for txt in word_item : \n",
    "    word , definition = txt.split('-')\n",
    "    print(\"{\" , \"word: '{}' , definition: '{}'\".format(word , definition) , \"},\")"
   ]
  },
  {
   "cell_type": "markdown",
   "metadata": {},
   "source": [
    "# Build function"
   ]
  },
  {
   "cell_type": "code",
   "execution_count": 10,
   "metadata": {},
   "outputs": [],
   "source": [
    "def format_word(src) :\n",
    "    with open(src, 'r') as file:\n",
    "        file_content = file.read()\n",
    "\n",
    "    word_item = file_content.split('\\n')\n",
    "    \n",
    "    for txt in word_item : \n",
    "        word , definition = txt.split('-')\n",
    "        print(\"{\" , \"word: '{}' , definition: '{}'\".format(word , definition) , \"},\")\n"
   ]
  },
  {
   "cell_type": "markdown",
   "metadata": {},
   "source": [
    "# Word formatting"
   ]
  },
  {
   "cell_type": "markdown",
   "metadata": {},
   "source": [
    "## Chapter 8"
   ]
  },
  {
   "cell_type": "code",
   "execution_count": 11,
   "metadata": {},
   "outputs": [
    {
     "name": "stdout",
     "output_type": "stream",
     "text": [
      "{ word: 'trail' , definition: 'apath through the country' },\n",
      "{ word: 'hurtle' , definition: 'to move great speed' },\n",
      "{ word: 'stroll' , definition: 'to work slowly for pleasure' },\n",
      "{ word: 'boast' , definition: 'to talk with too much pride about something' },\n",
      "{ word: 'stealthy' , definition: 'quiet and secret' },\n",
      "{ word: 'thumping' , definition: 'beating very hard' },\n",
      "{ word: 'cross' , definition: 'angry or annoyed' },\n",
      "{ word: 'awesome' , definition: 'very impressive' },\n",
      "{ word: 'plain' , definition: 'a large area of flat land with few trees' },\n",
      "{ word: 'nocturnal' , definition: 'active at night' },\n",
      "{ word: 'trundling' , definition: 'moving slowly and noisily' },\n",
      "{ word: 'springs' , definition: 'jumps quickly and suddenly' },\n",
      "{ word: 'trunk' , definition: 'the long nose of an elephant' },\n",
      "{ word: 'markings' , definition: 'patterns on an animal's skin' },\n",
      "{ word: 'soaked' , definition: 'very wet' },\n"
     ]
    }
   ],
   "source": [
    "ch8 = 'chapter8.txt'\n",
    "\n",
    "format_word(ch8)"
   ]
  },
  {
   "cell_type": "markdown",
   "metadata": {},
   "source": [
    "## Chapter 9"
   ]
  },
  {
   "cell_type": "code",
   "execution_count": 12,
   "metadata": {},
   "outputs": [
    {
     "name": "stdout",
     "output_type": "stream",
     "text": [
      "{ word: 'settle' , definition: 'to go and live permanently in a new place' },\n",
      "{ word: 'talent' , definition: 'a natural skill or ability' },\n",
      "{ word: 'vast' , definition: 'very big' },\n",
      "{ word: 'entire' , definition: 'whole or complete' },\n",
      "{ word: 'regrets' , definition: 'feelings of sadness about something you did or didn't do in the past' },\n",
      "{ word: 'auction' , definition: 'apublic sale where things are sold to the person who offers hte most money' },\n",
      "{ word: 'passed away' , definition: 'died' },\n",
      "{ word: 'boomed' , definition: 'grew rapidly ; became successful' },\n",
      "{ word: 'on the contrary' , definition: 'the opposite is true' },\n",
      "{ word: 'goal' , definition: 'aim or objective' },\n",
      "{ word: 'cheques' , definition: 'pieces of paper you sign instead of paying money' },\n",
      "{ word: 'venture' , definition: 'a person who takes a risk by opening a new company to make money' },\n",
      "{ word: 'donating' , definition: 'giving things to other  people' },\n",
      "{ word: 'hosted' , definition: 'presented a radio show and talked to guests' },\n",
      "{ word: 'entrepreneur' , definition: 'a project which is new and possibly risky' },\n"
     ]
    }
   ],
   "source": [
    "ch9 = 'chapter9.txt'\n",
    "format_word(ch9)"
   ]
  },
  {
   "cell_type": "markdown",
   "metadata": {},
   "source": [
    "## Chapter 10"
   ]
  },
  {
   "cell_type": "code",
   "execution_count": 13,
   "metadata": {},
   "outputs": [
    {
     "name": "stdout",
     "output_type": "stream",
     "text": [
      "{ word: 'swerve ' , definition: ' to change direction suddenly' },\n",
      "{ word: 'factors ' , definition: ' things that influences a situation' },\n",
      "{ word: 'claimed ' , definition: ' said that something belongs to you' },\n",
      "{ word: 'depicting ' , definition: ' showing something in a painting or a drawing' },\n",
      "{ word: 'potholes ' , definition: ' holes in the surface of a road' },\n",
      "{ word: 'elaborate ' , definition: ' very detailed and complicated' },\n",
      "{ word: 'incorporated ' , definition: ' made part of something else' },\n",
      "{ word: 'billboards ' , definition: ' large advertisements on the side of the road' },\n",
      "{ word: 'brickwork ' , definition: ' the part of a building made from bricks' },\n",
      "{ word: 'portraits ' , definition: ' pictures, paintings or photographs of a person' },\n",
      "{ word: 'publicity stuns ' , definition: ' events or things done to attract attention' },\n",
      "{ word: 'charities ' , definition: ' organizations that collect money to help other people' },\n",
      "{ word: 'portable ' , definition: ' easy to carry' },\n",
      "{ word: 'striking ' , definition: ' making a strong impression' },\n",
      "{ word: 'primitive ' , definition: ' belonging to a very early, simple society' },\n"
     ]
    }
   ],
   "source": [
    "ch10 = 'chapter10.txt'\n",
    "format_word(ch10)"
   ]
  }
 ],
 "metadata": {
  "kernelspec": {
   "display_name": "Python 3",
   "language": "python",
   "name": "python3"
  },
  "language_info": {
   "codemirror_mode": {
    "name": "ipython",
    "version": 3
   },
   "file_extension": ".py",
   "mimetype": "text/x-python",
   "name": "python",
   "nbconvert_exporter": "python",
   "pygments_lexer": "ipython3",
   "version": "3.10.7"
  }
 },
 "nbformat": 4,
 "nbformat_minor": 2
}
